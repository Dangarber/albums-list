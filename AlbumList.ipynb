{
 "cells": [
  {
   "cell_type": "code",
   "execution_count": 28,
   "metadata": {},
   "outputs": [],
   "source": [
    "import pandas as pd\n",
    "import matplotlib.pyplot as plt\n",
    "#3.10.7"
   ]
  },
  {
   "attachments": {},
   "cell_type": "markdown",
   "metadata": {},
   "source": [
    "Here I loaded in my data file having to accout for some latin characters and also removing the index since they already have "
   ]
  },
  {
   "cell_type": "code",
   "execution_count": 47,
   "metadata": {},
   "outputs": [
    {
     "ename": "SyntaxError",
     "evalue": "invalid syntax. Maybe you meant '==' or ':=' instead of '='? (1826511953.py, line 1)",
     "output_type": "error",
     "traceback": [
      "\u001b[1;36m  Cell \u001b[1;32mIn[47], line 1\u001b[1;36m\u001b[0m\n\u001b[1;33m    full_file = pd.read_csv((\"albumlist.csv\", encoding='latin-1',(full_file.to_string(index=False))\u001b[0m\n\u001b[1;37m                                              ^\u001b[0m\n\u001b[1;31mSyntaxError\u001b[0m\u001b[1;31m:\u001b[0m invalid syntax. Maybe you meant '==' or ':=' instead of '='?\n"
     ]
    }
   ],
   "source": [
    "full_file = pd.read_csv(\"albumlist.csv\", encoding='latin-1',)\n",
    "#print(full_file.to_string(index=False))\n",
    "full_file.head()\n"
   ]
  },
  {
   "attachments": {},
   "cell_type": "markdown",
   "metadata": {},
   "source": [
    "Here, I listed out the categories we are working with, which is a pretty lean 6, but still a lot of data and fun stats we can work within that."
   ]
  },
  {
   "cell_type": "code",
   "execution_count": 30,
   "metadata": {},
   "outputs": [
    {
     "data": {
      "text/plain": [
       "Index(['Number', 'Year', 'Album', 'Artist', 'Genre', 'Subgenre'], dtype='object')"
      ]
     },
     "execution_count": 30,
     "metadata": {},
     "output_type": "execute_result"
    }
   ],
   "source": [
    "full_file.columns"
   ]
  },
  {
   "attachments": {},
   "cell_type": "markdown",
   "metadata": {},
   "source": [
    "Here I dropped the Subgenre category as it would seem pretty repetive with the Genre category. This category would also make my data confusing."
   ]
  },
  {
   "cell_type": "code",
   "execution_count": 31,
   "metadata": {},
   "outputs": [
    {
     "data": {
      "text/html": [
       "<div>\n",
       "<style scoped>\n",
       "    .dataframe tbody tr th:only-of-type {\n",
       "        vertical-align: middle;\n",
       "    }\n",
       "\n",
       "    .dataframe tbody tr th {\n",
       "        vertical-align: top;\n",
       "    }\n",
       "\n",
       "    .dataframe thead th {\n",
       "        text-align: right;\n",
       "    }\n",
       "</style>\n",
       "<table border=\"1\" class=\"dataframe\">\n",
       "  <thead>\n",
       "    <tr style=\"text-align: right;\">\n",
       "      <th></th>\n",
       "      <th>Number</th>\n",
       "      <th>Year</th>\n",
       "      <th>Album</th>\n",
       "      <th>Artist</th>\n",
       "      <th>Genre</th>\n",
       "    </tr>\n",
       "  </thead>\n",
       "  <tbody>\n",
       "    <tr>\n",
       "      <th>0</th>\n",
       "      <td>1</td>\n",
       "      <td>1967</td>\n",
       "      <td>Sgt. Pepper's Lonely Hearts Club Band</td>\n",
       "      <td>The Beatles</td>\n",
       "      <td>Rock</td>\n",
       "    </tr>\n",
       "    <tr>\n",
       "      <th>1</th>\n",
       "      <td>2</td>\n",
       "      <td>1966</td>\n",
       "      <td>Pet Sounds</td>\n",
       "      <td>The Beach Boys</td>\n",
       "      <td>Rock</td>\n",
       "    </tr>\n",
       "    <tr>\n",
       "      <th>2</th>\n",
       "      <td>3</td>\n",
       "      <td>1966</td>\n",
       "      <td>Revolver</td>\n",
       "      <td>The Beatles</td>\n",
       "      <td>Rock</td>\n",
       "    </tr>\n",
       "    <tr>\n",
       "      <th>3</th>\n",
       "      <td>4</td>\n",
       "      <td>1965</td>\n",
       "      <td>Highway 61 Revisited</td>\n",
       "      <td>Bob Dylan</td>\n",
       "      <td>Rock</td>\n",
       "    </tr>\n",
       "    <tr>\n",
       "      <th>4</th>\n",
       "      <td>5</td>\n",
       "      <td>1965</td>\n",
       "      <td>Rubber Soul</td>\n",
       "      <td>The Beatles</td>\n",
       "      <td>Rock, Pop</td>\n",
       "    </tr>\n",
       "  </tbody>\n",
       "</table>\n",
       "</div>"
      ],
      "text/plain": [
       "   Number  Year                                  Album          Artist  \\\n",
       "0       1  1967  Sgt. Pepper's Lonely Hearts Club Band     The Beatles   \n",
       "1       2  1966                             Pet Sounds  The Beach Boys   \n",
       "2       3  1966                               Revolver     The Beatles   \n",
       "3       4  1965                   Highway 61 Revisited       Bob Dylan   \n",
       "4       5  1965                            Rubber Soul     The Beatles   \n",
       "\n",
       "       Genre  \n",
       "0       Rock  \n",
       "1       Rock  \n",
       "2       Rock  \n",
       "3       Rock  \n",
       "4  Rock, Pop  "
      ]
     },
     "execution_count": 31,
     "metadata": {},
     "output_type": "execute_result"
    }
   ],
   "source": [
    "filtered_file = full_file.drop(columns=[\"Subgenre\"])\n",
    "filtered_file.head()"
   ]
  },
  {
   "attachments": {},
   "cell_type": "markdown",
   "metadata": {},
   "source": [
    "Just establishing how many albums are in my list before we start breaking down the information"
   ]
  },
  {
   "cell_type": "code",
   "execution_count": 32,
   "metadata": {},
   "outputs": [
    {
     "name": "stdout",
     "output_type": "stream",
     "text": [
      "500\n"
     ]
    }
   ],
   "source": [
    "print(len(filtered_file))\n"
   ]
  },
  {
   "attachments": {},
   "cell_type": "markdown",
   "metadata": {},
   "source": [
    "Onto the fun stuff. I listed the top performing artist on the list. These artists had the most albums. "
   ]
  },
  {
   "cell_type": "code",
   "execution_count": 33,
   "metadata": {},
   "outputs": [
    {
     "data": {
      "text/plain": [
       "Artist\n",
       "Bob Dylan             10\n",
       "The Beatles           10\n",
       "The Rolling Stones    10\n",
       "Bruce Springsteen      8\n",
       "The Who                7\n",
       "David Bowie            5\n",
       "Elton John             5\n",
       "Led Zeppelin           5\n",
       "Radiohead              5\n",
       "U2                     5\n",
       "Name: Number, dtype: int64"
      ]
     },
     "execution_count": 33,
     "metadata": {},
     "output_type": "execute_result"
    }
   ],
   "source": [
    "top_artist = filtered_file.groupby('Artist')['Number'].count().nlargest(10)\n",
    "top_artist.head(10)\n",
    "\n"
   ]
  },
  {
   "attachments": {},
   "cell_type": "markdown",
   "metadata": {},
   "source": [
    "Used Data to show the 6 years that only had 1 top album. Most years selected they had multiple albums that year. This shows that the selectors of this list mostly thought that some years were just a great year for music."
   ]
  },
  {
   "cell_type": "code",
   "execution_count": 34,
   "metadata": {},
   "outputs": [
    {
     "data": {
      "text/plain": [
       "Year\n",
       "1955    1\n",
       "1958    1\n",
       "1961    1\n",
       "2008    1\n",
       "2010    1\n",
       "2011    1\n",
       "Name: Number, dtype: int64"
      ]
     },
     "execution_count": 34,
     "metadata": {},
     "output_type": "execute_result"
    }
   ],
   "source": [
    "bad_genre = filtered_file.groupby('Year')['Number'].count().nsmallest(6)\n",
    "bad_genre.head(10)"
   ]
  },
  {
   "attachments": {},
   "cell_type": "markdown",
   "metadata": {},
   "source": [
    "This was a bit rough. Even though subgenre category did exist for some reason there were multiple and uneven amounts of genres listed for each album. I simply took the first genre listed for each album and cleared the rest. Luckily, they put a comma after each album which meant I could just clear everything in \"Genre\" after the first comma. "
   ]
  },
  {
   "cell_type": "code",
   "execution_count": 43,
   "metadata": {},
   "outputs": [
    {
     "data": {
      "text/html": [
       "<div>\n",
       "<style scoped>\n",
       "    .dataframe tbody tr th:only-of-type {\n",
       "        vertical-align: middle;\n",
       "    }\n",
       "\n",
       "    .dataframe tbody tr th {\n",
       "        vertical-align: top;\n",
       "    }\n",
       "\n",
       "    .dataframe thead th {\n",
       "        text-align: right;\n",
       "    }\n",
       "</style>\n",
       "<table border=\"1\" class=\"dataframe\">\n",
       "  <thead>\n",
       "    <tr style=\"text-align: right;\">\n",
       "      <th></th>\n",
       "      <th>Number</th>\n",
       "      <th>Year</th>\n",
       "      <th>Album</th>\n",
       "      <th>Artist</th>\n",
       "      <th>Genre</th>\n",
       "    </tr>\n",
       "  </thead>\n",
       "  <tbody>\n",
       "    <tr>\n",
       "      <th>0</th>\n",
       "      <td>1</td>\n",
       "      <td>1967</td>\n",
       "      <td>Sgt. Pepper's Lonely Hearts Club Band</td>\n",
       "      <td>The Beatles</td>\n",
       "      <td>Rock</td>\n",
       "    </tr>\n",
       "    <tr>\n",
       "      <th>1</th>\n",
       "      <td>2</td>\n",
       "      <td>1966</td>\n",
       "      <td>Pet Sounds</td>\n",
       "      <td>The Beach Boys</td>\n",
       "      <td>Rock</td>\n",
       "    </tr>\n",
       "    <tr>\n",
       "      <th>2</th>\n",
       "      <td>3</td>\n",
       "      <td>1966</td>\n",
       "      <td>Revolver</td>\n",
       "      <td>The Beatles</td>\n",
       "      <td>Rock</td>\n",
       "    </tr>\n",
       "    <tr>\n",
       "      <th>3</th>\n",
       "      <td>4</td>\n",
       "      <td>1965</td>\n",
       "      <td>Highway 61 Revisited</td>\n",
       "      <td>Bob Dylan</td>\n",
       "      <td>Rock</td>\n",
       "    </tr>\n",
       "    <tr>\n",
       "      <th>4</th>\n",
       "      <td>5</td>\n",
       "      <td>1965</td>\n",
       "      <td>Rubber Soul</td>\n",
       "      <td>The Beatles</td>\n",
       "      <td>Rock</td>\n",
       "    </tr>\n",
       "    <tr>\n",
       "      <th>5</th>\n",
       "      <td>6</td>\n",
       "      <td>1971</td>\n",
       "      <td>What's Going On</td>\n",
       "      <td>Marvin Gaye</td>\n",
       "      <td>Funk / Soul</td>\n",
       "    </tr>\n",
       "    <tr>\n",
       "      <th>6</th>\n",
       "      <td>7</td>\n",
       "      <td>1972</td>\n",
       "      <td>Exile on Main St.</td>\n",
       "      <td>The Rolling Stones</td>\n",
       "      <td>Rock</td>\n",
       "    </tr>\n",
       "    <tr>\n",
       "      <th>7</th>\n",
       "      <td>8</td>\n",
       "      <td>1979</td>\n",
       "      <td>London Calling</td>\n",
       "      <td>The Clash</td>\n",
       "      <td>Rock</td>\n",
       "    </tr>\n",
       "    <tr>\n",
       "      <th>8</th>\n",
       "      <td>9</td>\n",
       "      <td>1966</td>\n",
       "      <td>Blonde on Blonde</td>\n",
       "      <td>Bob Dylan</td>\n",
       "      <td>Rock</td>\n",
       "    </tr>\n",
       "    <tr>\n",
       "      <th>9</th>\n",
       "      <td>10</td>\n",
       "      <td>1968</td>\n",
       "      <td>The Beatles (\"The White Album\")</td>\n",
       "      <td>The Beatles</td>\n",
       "      <td>Rock</td>\n",
       "    </tr>\n",
       "    <tr>\n",
       "      <th>10</th>\n",
       "      <td>11</td>\n",
       "      <td>1976</td>\n",
       "      <td>The Sun Sessions</td>\n",
       "      <td>Elvis Presley</td>\n",
       "      <td>Rock</td>\n",
       "    </tr>\n",
       "    <tr>\n",
       "      <th>11</th>\n",
       "      <td>12</td>\n",
       "      <td>1959</td>\n",
       "      <td>Kind of Blue</td>\n",
       "      <td>Miles Davis</td>\n",
       "      <td>Jazz</td>\n",
       "    </tr>\n",
       "    <tr>\n",
       "      <th>12</th>\n",
       "      <td>13</td>\n",
       "      <td>1967</td>\n",
       "      <td>The Velvet Underground &amp; Nico</td>\n",
       "      <td>The Velvet Underground</td>\n",
       "      <td>Rock</td>\n",
       "    </tr>\n",
       "    <tr>\n",
       "      <th>13</th>\n",
       "      <td>14</td>\n",
       "      <td>1969</td>\n",
       "      <td>Abbey Road</td>\n",
       "      <td>The Beatles</td>\n",
       "      <td>Rock</td>\n",
       "    </tr>\n",
       "    <tr>\n",
       "      <th>14</th>\n",
       "      <td>15</td>\n",
       "      <td>1967</td>\n",
       "      <td>Are You Experienced</td>\n",
       "      <td>The Jimi Hendrix Experience</td>\n",
       "      <td>Rock</td>\n",
       "    </tr>\n",
       "    <tr>\n",
       "      <th>15</th>\n",
       "      <td>16</td>\n",
       "      <td>1975</td>\n",
       "      <td>Blood on the Tracks</td>\n",
       "      <td>Bob Dylan</td>\n",
       "      <td>Rock</td>\n",
       "    </tr>\n",
       "    <tr>\n",
       "      <th>16</th>\n",
       "      <td>17</td>\n",
       "      <td>1991</td>\n",
       "      <td>Nevermind</td>\n",
       "      <td>Nirvana</td>\n",
       "      <td>Rock</td>\n",
       "    </tr>\n",
       "    <tr>\n",
       "      <th>17</th>\n",
       "      <td>18</td>\n",
       "      <td>1975</td>\n",
       "      <td>Born to Run</td>\n",
       "      <td>Bruce Springsteen</td>\n",
       "      <td>Rock</td>\n",
       "    </tr>\n",
       "    <tr>\n",
       "      <th>18</th>\n",
       "      <td>19</td>\n",
       "      <td>1968</td>\n",
       "      <td>Astral Weeks</td>\n",
       "      <td>Van Morrison</td>\n",
       "      <td>Jazz</td>\n",
       "    </tr>\n",
       "    <tr>\n",
       "      <th>19</th>\n",
       "      <td>20</td>\n",
       "      <td>1982</td>\n",
       "      <td>Thriller</td>\n",
       "      <td>Michael Jackson</td>\n",
       "      <td>Funk / Soul</td>\n",
       "    </tr>\n",
       "  </tbody>\n",
       "</table>\n",
       "</div>"
      ],
      "text/plain": [
       "    Number  Year                                  Album  \\\n",
       "0        1  1967  Sgt. Pepper's Lonely Hearts Club Band   \n",
       "1        2  1966                             Pet Sounds   \n",
       "2        3  1966                               Revolver   \n",
       "3        4  1965                   Highway 61 Revisited   \n",
       "4        5  1965                            Rubber Soul   \n",
       "5        6  1971                        What's Going On   \n",
       "6        7  1972                      Exile on Main St.   \n",
       "7        8  1979                         London Calling   \n",
       "8        9  1966                       Blonde on Blonde   \n",
       "9       10  1968        The Beatles (\"The White Album\")   \n",
       "10      11  1976                       The Sun Sessions   \n",
       "11      12  1959                           Kind of Blue   \n",
       "12      13  1967          The Velvet Underground & Nico   \n",
       "13      14  1969                             Abbey Road   \n",
       "14      15  1967                    Are You Experienced   \n",
       "15      16  1975                    Blood on the Tracks   \n",
       "16      17  1991                              Nevermind   \n",
       "17      18  1975                            Born to Run   \n",
       "18      19  1968                           Astral Weeks   \n",
       "19      20  1982                               Thriller   \n",
       "\n",
       "                         Artist        Genre  \n",
       "0                   The Beatles         Rock  \n",
       "1                The Beach Boys         Rock  \n",
       "2                   The Beatles         Rock  \n",
       "3                     Bob Dylan         Rock  \n",
       "4                   The Beatles         Rock  \n",
       "5                   Marvin Gaye  Funk / Soul  \n",
       "6            The Rolling Stones         Rock  \n",
       "7                     The Clash         Rock  \n",
       "8                     Bob Dylan         Rock  \n",
       "9                   The Beatles         Rock  \n",
       "10                Elvis Presley         Rock  \n",
       "11                  Miles Davis         Jazz  \n",
       "12       The Velvet Underground         Rock  \n",
       "13                  The Beatles         Rock  \n",
       "14  The Jimi Hendrix Experience         Rock  \n",
       "15                    Bob Dylan         Rock  \n",
       "16                      Nirvana         Rock  \n",
       "17            Bruce Springsteen         Rock  \n",
       "18                 Van Morrison         Jazz  \n",
       "19              Michael Jackson  Funk / Soul  "
      ]
     },
     "execution_count": 43,
     "metadata": {},
     "output_type": "execute_result"
    }
   ],
   "source": [
    "split_genre = []\n",
    "for s in  filtered_file[\"Genre\"]:\n",
    "    split_genre.append(s.split(\",\")[0]) \n",
    "filtered_file[\"Genre\"] = split_genre   \n",
    "filtered_file.head(20)"
   ]
  },
  {
   "attachments": {},
   "cell_type": "markdown",
   "metadata": {},
   "source": [
    "This bar graph show the most popular decade for top albums. The hardest thing was creating the \"decade_genre_counts\" function. I basically had to roud each year in the data set to the nearest 10. the rest is just grabbing the categories I want and lastly customizing the colors so they are distinct and readable. "
   ]
  },
  {
   "cell_type": "code",
   "execution_count": 36,
   "metadata": {},
   "outputs": [
    {
     "data": {
      "image/png": "[encoded data removed]",
      "text/plain": [
       "<Figure size 640x480 with 1 Axes>"
      ]
     },
     "metadata": {},
     "output_type": "display_data"
    }
   ],
   "source": [
    "decade_genre_counts = filtered_file.groupby([filtered_file['Year'] // 10 * 10, 'Genre']).size().reset_index(name='Counts')\n",
    "decade_genre_counts_pivot = decade_genre_counts.pivot(index='Year', columns='Genre', values='Counts')\n",
    "\n",
    "\n",
    "colors = ['#0000FF', '#ff7f0e', '#2ca02c', '#d62722', '#9467bd', '#8c564b', '#e377c2', '#7f7f7f', '#bcbd22', '#17becf', '#008080']\n",
    "\n",
    "\n",
    "\n",
    "ax = decade_genre_counts_pivot.plot(kind='bar', stacked=True, color=colors)\n",
    "\n",
    "plt.title('Popular Genres by Decade')\n",
    "plt.xlabel('Decade')\n",
    "plt.ylabel('Number of Occurrences')\n",
    "\n",
    "plt.show()"
   ]
  },
  {
   "attachments": {},
   "cell_type": "markdown",
   "metadata": {},
   "source": [
    "This is a pie chart that gives you an idea of how many artists had multiple albums on the list. It grabs a sample of 10 from my list and spits out the percentage of albums they have. Almost every time at least one artist has way more albums than the rest. "
   ]
  },
  {
   "cell_type": "code",
   "execution_count": 37,
   "metadata": {},
   "outputs": [
    {
     "data": {
      "image/png": "[encoded data removed]",
      "text/plain": [
       "<Figure size 640x480 with 1 Axes>"
      ]
     },
     "metadata": {},
     "output_type": "display_data"
    }
   ],
   "source": [
    "artist_counts = filtered_file.groupby('Artist').size().reset_index(name='counts')\n",
    "top_artists = artist_counts.sample(10)['Artist'].tolist()\n",
    "top_artist_counts = artist_counts[artist_counts['Artist'].isin(top_artists)]\n",
    "plt.pie(top_artist_counts['counts'], labels=top_artist_counts['Artist'], autopct='%1.1f%%')\n",
    "plt.title('Popular Artists')\n",
    "plt.show()\n"
   ]
  }
 ],
 "metadata": {
  "kernelspec": {
   "display_name": "Python 3",
   "language": "python",
   "name": "python3"
  },
  "language_info": {
   "codemirror_mode": {
    "name": "ipython",
    "version": 3
   },
   "file_extension": ".py",
   "mimetype": "text/x-python",
   "name": "python",
   "nbconvert_exporter": "python",
   "pygments_lexer": "ipython3",
   "version": "3.10.7"
  },
  "orig_nbformat": 4,
  "vscode": {
   "interpreter": {
    "hash": "369f2c481f4da34e4445cda3fffd2e751bd1c4d706f27375911949ba6bb62e1c"
   }
  }
 },
 "nbformat": 4,
 "nbformat_minor": 2
}
