{
 "cells": [
  {
   "cell_type": "code",
   "execution_count": null,
   "metadata": {},
   "outputs": [],
   "source": [
    "import pandas as pd\n",
    "import matplotlib.pyplot as plt\n",
    "#3.10.7"
   ]
  },
  {
   "attachments": {},
   "cell_type": "markdown",
   "metadata": {},
   "source": [
    "Here I loaded in two seperate data file's having to accout for some latin characters"
   ]
  },
  {
   "cell_type": "code",
   "execution_count": null,
   "metadata": {},
   "outputs": [],
   "source": [
    "Rolling_stone = pd.read_csv(\"albumlist.csv\", encoding='latin-1',)\n",
    "Rate_My_Music= pd.read_csv(\"rym_top_5000_all_time.csv\", encoding='latin-1',)\n",
    "Rate_My_Music.head()\n"
   ]
  },
  {
   "attachments": {},
   "cell_type": "markdown",
   "metadata": {},
   "source": [
    "Here I loaded I joined my two data sets and cleaned some data by renaming some columns in Rate_My_Music to match some columns in Rolling_stone for and easier merge"
   ]
  },
  {
   "cell_type": "code",
   "execution_count": null,
   "metadata": {},
   "outputs": [],
   "source": [
    "Rate_My_Music = Rate_My_Music.rename(columns={\"Artist Name\": \"Artist\", \"Genres\": \"Genre\"})\n",
    "joined_data = pd.merge(Rolling_stone, Rate_My_Music, on=['Album', 'Artist'], how='inner')\n",
    "joined_data = joined_data.drop('Genre_y', axis=1)\n",
    "joined_data = joined_data.rename(columns={'Genre_x': 'Genre'})\n",
    "joined_data.head(8)\n"
   ]
  },
  {
   "attachments": {},
   "cell_type": "markdown",
   "metadata": {},
   "source": [
    "This where I viuslized my Data I started by showing a Bar Graph of Top 10 Genres"
   ]
  },
  {
   "cell_type": "code",
   "execution_count": null,
   "metadata": {},
   "outputs": [],
   "source": [
    "top_10_genres = joined_data['Genre'].value_counts().nlargest(10)\n",
    "plt.figure(figsize=(10, 6))\n",
    "top_10_genres.plot(kind='bar')\n",
    "plt.title('Top 10 Genres')\n",
    "plt.xlabel('Genre')\n",
    "plt.ylabel('Albums')\n",
    "plt.xticks(rotation=45)\n",
    "plt.show()"
   ]
  },
  {
   "cell_type": "code",
   "execution_count": null,
   "metadata": {},
   "outputs": [],
   "source": [
    "plt.figure(figsize=(10, 6))\n",
    "plt.scatter(joined_data['Year'], joined_data['Average Rating'], alpha=0.5)\n",
    "plt.title('Average Ratings Based on Release Year')\n",
    "plt.xlabel('Release Year of Album')\n",
    "plt.ylabel('Album Rating')\n",
    "plt.xticks(rotation=45)\n",
    "plt.show()"
   ]
  },
  {
   "cell_type": "code",
   "execution_count": null,
   "metadata": {},
   "outputs": [],
   "source": [
    "\n",
    "top_10_artists = joined_data['Artist'].value_counts().nlargest(10)\n",
    "\n",
    "plt.figure(figsize=(10, 6))\n",
    "top_10_artists.plot(kind='bar')\n",
    "plt.title('Top 10 Artists')\n",
    "plt.xlabel('Artist')\n",
    "plt.ylabel('Number of Albums')\n",
    "plt.xticks(rotation=45)\n",
    "plt.show()"
   ]
  }
 ],
 "metadata": {
  "kernelspec": {
   "display_name": "Python 3",
   "language": "python",
   "name": "python3"
  },
  "language_info": {
   "codemirror_mode": {
    "name": "ipython",
    "version": 3
   },
   "file_extension": ".py",
   "mimetype": "text/x-python",
   "name": "python",
   "nbconvert_exporter": "python",
   "pygments_lexer": "ipython3",
   "version": "3.10.7"
  },
  "orig_nbformat": 4,
  "vscode": {
   "interpreter": {
    "hash": "369f2c481f4da34e4445cda3fffd2e751bd1c4d706f27375911949ba6bb62e1c"
   }
  }
 },
 "nbformat": 4,
 "nbformat_minor": 2
}
